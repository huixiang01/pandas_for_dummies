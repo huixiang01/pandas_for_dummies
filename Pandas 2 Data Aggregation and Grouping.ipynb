{
 "cells": [
  {
   "cell_type": "code",
   "execution_count": 9,
   "metadata": {},
   "outputs": [],
   "source": [
    "# What is this about?\n",
    "# You will learn min, maxsum, count,etc."
   ]
  },
  {
   "cell_type": "code",
   "execution_count": 5,
   "metadata": {},
   "outputs": [],
   "source": [
    "import pandas as pd\n",
    "\n",
    "# Let's start by reading our csv\n",
    "zoo = pd.read_csv('zoo.csv', delimiter = ',')\n"
   ]
  },
  {
   "cell_type": "code",
   "execution_count": 6,
   "metadata": {},
   "outputs": [
    {
     "data": {
      "text/plain": [
       "animal        22\n",
       "uniq_id       22\n",
       "water_need    22\n",
       "dtype: int64"
      ]
     },
     "execution_count": 6,
     "metadata": {},
     "output_type": "execute_result"
    }
   ],
   "source": [
    "# Try:\n",
    "zoo.count()\n",
    "# This will count the nnumber of vallues in each column"
   ]
  },
  {
   "cell_type": "code",
   "execution_count": 7,
   "metadata": {},
   "outputs": [
    {
     "data": {
      "text/plain": [
       "animal    22\n",
       "dtype: int64"
      ]
     },
     "execution_count": 7,
     "metadata": {},
     "output_type": "execute_result"
    }
   ],
   "source": [
    "# And counting specific column...\n",
    "zoo[['animal']].count()"
   ]
  },
  {
   "cell_type": "code",
   "execution_count": 8,
   "metadata": {},
   "outputs": [
    {
     "data": {
      "text/plain": [
       "7650"
      ]
     },
     "execution_count": 8,
     "metadata": {},
     "output_type": "execute_result"
    }
   ],
   "source": [
    "# Summing...\n",
    "# Here's how you sum the water_needs\n",
    "zoo.water_need.sum()"
   ]
  },
  {
   "cell_type": "code",
   "execution_count": 10,
   "metadata": {},
   "outputs": [
    {
     "data": {
      "text/plain": [
       "animal        elephantelephantelephanttigertigertigertigerti...\n",
       "uniq_id                                                   22253\n",
       "water_need                                                 7650\n",
       "dtype: object"
      ]
     },
     "execution_count": 10,
     "metadata": {},
     "output_type": "execute_result"
    }
   ],
   "source": [
    "# And if you wanna be extra, try:\n",
    "zoo.sum()\n",
    "# And look at the !@$%!%!#% you have got into."
   ]
  },
  {
   "cell_type": "code",
   "execution_count": 26,
   "metadata": {},
   "outputs": [
    {
     "name": "stdout",
     "output_type": "stream",
     "text": [
      "80 600 347.727272727 325.0 \n",
      "\n",
      "Max:\n",
      " animal        zebra\n",
      "uniq_id        1022\n",
      "water_need      600\n",
      "dtype: object \n",
      "\n",
      "Min:\n",
      " animal        elephant\n",
      "uniq_id           1001\n",
      "water_need          80\n",
      "dtype: object \n",
      "\n",
      "Mean:\n",
      " uniq_id       1011.500000\n",
      "water_need     347.727273\n",
      "dtype: float64 \n",
      "\n",
      "Median:\n",
      " uniq_id       1011.5\n",
      "water_need     325.0\n",
      "dtype: float64\n"
     ]
    }
   ],
   "source": [
    "# Max, Min, Mean, Median : Self explanatory...\n",
    "print(zoo.water_need.min(),\n",
    "      zoo.water_need.max(), \n",
    "      zoo.water_need.mean(),\n",
    "      zoo.water_need.median(),\"\\n\")\n",
    "\n",
    "# And if you are curious again...\n",
    "print(\"Max:\\n\", zoo.max(), \n",
    "      \"\\n\\nMin:\\n\",zoo.min(), \n",
    "      \"\\n\\nMean:\\n\",zoo.mean(), \n",
    "      \"\\n\\nMedian:\\n\",zoo.median())\n",
    "\n",
    "# Note that mean and median for animal does not appear."
   ]
  },
  {
   "cell_type": "code",
   "execution_count": 31,
   "metadata": {},
   "outputs": [
    {
     "name": "stdout",
     "output_type": "stream",
     "text": [
      "          uniq_id  water_need\n",
      "animal                       \n",
      "elephant   1002.0  550.000000\n",
      "kangaroo   1021.0  416.666667\n",
      "lion       1017.5  477.500000\n",
      "tiger      1006.0  310.000000\n",
      "zebra      1012.0  184.285714 \n",
      "\n",
      "animal\n",
      "elephant    550.000000\n",
      "kangaroo    416.666667\n",
      "lion        477.500000\n",
      "tiger       310.000000\n",
      "zebra       184.285714\n",
      "Name: water_need, dtype: float64 \n",
      "\n",
      "          water_need\n",
      "animal              \n",
      "elephant  550.000000\n",
      "kangaroo  416.666667\n",
      "lion      477.500000\n",
      "tiger     310.000000\n",
      "zebra     184.285714 \n",
      "\n"
     ]
    }
   ],
   "source": [
    "# Grouping\n",
    "# \"I just wanna calculate the stats on zebra only... rest are just useless!\"\n",
    "# Okay, no problem!\n",
    "# For example, if you wanna find mean of animal..\n",
    "\n",
    "print(zoo.groupby('animal').mean(),\"\\n\")\n",
    "#And you can combine the function also!\n",
    "\n",
    "print(zoo.groupby('animal').mean().water_need,\"\\n\") \n",
    "# This returns Series object\n",
    "\n",
    "print(zoo.groupby('animal').mean()[['water_need']],\"\\n\") \n",
    "# This returns DataFrame"
   ]
  },
  {
   "cell_type": "code",
   "execution_count": null,
   "metadata": {},
   "outputs": [],
   "source": [
    "# Test yourself\n",
    "# Refer to article_read\n",
    "# For the users of country_2, what was the most frequent topic and source combination? Or in other words: which topic, from which source, brought the most views from country_2?"
   ]
  }
 ],
 "metadata": {
  "kernelspec": {
   "display_name": "Python 3",
   "language": "python",
   "name": "python3"
  },
  "language_info": {
   "codemirror_mode": {
    "name": "ipython",
    "version": 3
   },
   "file_extension": ".py",
   "mimetype": "text/x-python",
   "name": "python",
   "nbconvert_exporter": "python",
   "pygments_lexer": "ipython3",
   "version": "3.6.8"
  }
 },
 "nbformat": 4,
 "nbformat_minor": 2
}
